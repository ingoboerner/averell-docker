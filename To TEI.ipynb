{
 "cells": [
  {
   "cell_type": "code",
   "execution_count": 421,
   "id": "54106180",
   "metadata": {},
   "outputs": [],
   "source": [
    "import glob\n",
    "import re\n",
    "import json\n",
    "import os\n",
    "import xml.etree.ElementTree as ET \n",
    "\n",
    "from pathlib import Path\n",
    "import uuid\n",
    "import ftfy\n"
   ]
  },
  {
   "cell_type": "code",
   "execution_count": 419,
   "id": "7732dff6",
   "metadata": {},
   "outputs": [
    {
     "name": "stdout",
     "output_type": "stream",
     "text": [
      "Collecting ftfy\n",
      "  Downloading ftfy-6.1.1-py3-none-any.whl (53 kB)\n",
      "\u001b[2K     \u001b[38;2;114;156;31m━━━━━━━━━━━━━━━━━━━━━━━━━━━━━━━━━━━━━━━━\u001b[0m \u001b[32m53.1/53.1 kB\u001b[0m \u001b[31m7.3 MB/s\u001b[0m eta \u001b[36m0:00:00\u001b[0m\n",
      "\u001b[?25hRequirement already satisfied: wcwidth>=0.2.5 in ./venv/lib/python3.10/site-packages (from ftfy) (0.2.6)\n",
      "Installing collected packages: ftfy\n",
      "Successfully installed ftfy-6.1.1\n"
     ]
    }
   ],
   "source": [
    "!pip install ftfy"
   ]
  },
  {
   "cell_type": "code",
   "execution_count": 167,
   "id": "d7361d70",
   "metadata": {},
   "outputs": [],
   "source": [
    "corpus_names_dict = {    \n",
    "    \"disco2_1\": \"Disco V2.1\",\n",
    "    \"disco3\": \"Disco V3\",\n",
    "    \"adso\": \"Sonetos Siglo de Oro\",\n",
    "    \"adso100\": \"ADSO 100 poems corpus\",\n",
    "    \"plc\": \"Poesía Lírica Castellana Siglo de Oro\",\n",
    "    \"gongo\": \"Gongocorpus\",\n",
    "    \"ecpa\": \"Eighteenth Century Poetry Archive\",\n",
    "    \"4b4v\": \"For Better For Verse\",\n",
    "    \"mel\": \"Métrique en Ligne\",\n",
    "    \"bibit\": \"Biblioteca Italiana\",\n",
    "    \"czverse\": \"Corpus of Czech Verse\",\n",
    "    \"stichopt\": \"Stichotheque Portuguese\",\n",
    "}"
   ]
  },
  {
   "cell_type": "code",
   "execution_count": 405,
   "id": "8233e9bc",
   "metadata": {},
   "outputs": [
    {
     "data": {
      "text/plain": [
       "'3fb352cb2ee342baa9e6db1284be33f5'"
      ]
     },
     "execution_count": 405,
     "metadata": {},
     "output_type": "execute_result"
    }
   ],
   "source": [
    "uuid.uuid4().hex"
   ]
  },
  {
   "cell_type": "code",
   "execution_count": 390,
   "id": "5729eb06",
   "metadata": {},
   "outputs": [],
   "source": [
    "corpora_list = list(corpus_names_dict.keys())"
   ]
  },
  {
   "cell_type": "code",
   "execution_count": 350,
   "id": "1ae39284",
   "metadata": {},
   "outputs": [],
   "source": [
    "for corpus in corpora_list:\n",
    "    p = Path('corpora') / corpus / \"averell\" / \"parser\"\n",
    "    poem_path_list = p.glob(\"**/*.json\")"
   ]
  },
  {
   "cell_type": "code",
   "execution_count": 422,
   "id": "6053d58a",
   "metadata": {},
   "outputs": [
    {
     "data": {
      "text/plain": [
       "'Gonçalves Dias'"
      ]
     },
     "execution_count": 422,
     "metadata": {},
     "output_type": "execute_result"
    }
   ],
   "source": [
    "ftfy.fix_text(author)"
   ]
  },
  {
   "cell_type": "code",
   "execution_count": 383,
   "id": "e9c41584",
   "metadata": {},
   "outputs": [
    {
     "data": {
      "text/plain": [
       "{'caca'}"
      ]
     },
     "execution_count": 383,
     "metadata": {},
     "output_type": "execute_result"
    }
   ],
   "source": [
    "filename_set"
   ]
  },
  {
   "cell_type": "code",
   "execution_count": 384,
   "id": "f35c4412",
   "metadata": {},
   "outputs": [],
   "source": [
    "filename_list = [\"caca\", \"culo\", \"caca\"]"
   ]
  },
  {
   "cell_type": "code",
   "execution_count": 386,
   "id": "e7c5b133",
   "metadata": {},
   "outputs": [
    {
     "data": {
      "text/plain": [
       "0"
      ]
     },
     "execution_count": 386,
     "metadata": {},
     "output_type": "execute_result"
    }
   ],
   "source": [
    "filename_list.count(\"sdasdas\")"
   ]
  },
  {
   "cell_type": "code",
   "execution_count": 417,
   "id": "2a366dfb",
   "metadata": {},
   "outputs": [],
   "source": [
    "filename_list = []\n",
    "for corpus in corpora_list:\n",
    "    p = Path('corpora') / corpus / \"averell\" / \"parser\"\n",
    "    poem_path_list = p.glob(\"**/*.json\")\n",
    "    for poem_path in poem_path_list:\n",
    "        \n",
    "        with open(poem_path, \"r\") as poem_file:\n",
    "            poem = json.load(poem_file)\n",
    "        file_name = poem_path.stem\n",
    "        filename_list.append(file_name)\n",
    "        poem_title = poem[\"poem_title\"]\n",
    "        author = poem[\"author\"]\n",
    "        corpus_name = corpus_names_dict[poem[\"corpus\"]]\n",
    "        manually_checked = poem[\"manually_checked\"]\n",
    "\n",
    "        poem_id = f\"{author}_{file_name}\"\n",
    "        \n",
    "        root = ET.Element(\"TEI\")\n",
    "        header = ET.SubElement(root, \"teiHeader\")\n",
    "\n",
    "        file_desc = ET.SubElement(header, \"fileDesc\")\n",
    "\n",
    "        title_stmt = ET.SubElement(file_desc, \"titleStmt\")\n",
    "        title_stmt_desc = ET.SubElement(title_stmt, \"title\")\n",
    "        author_stmt_desc = ET.SubElement(title_stmt, \"author\")\n",
    "        title_stmt_desc.text = title\n",
    "        author_stmt_desc.text = author\n",
    "\n",
    "        extent = ET.SubElement(file_desc, \"extent\")\n",
    "\n",
    "\n",
    "        pub_stmt = ET.SubElement(file_desc, \"publicationStmt\")\n",
    "        publisher = ET.SubElement(pub_stmt, \"publisher\")\n",
    "        publisher.text = \"UNED University\"\n",
    "        idno = ET.SubElement(pub_stmt, \"idno\")\n",
    "        idno.text = poem_id\n",
    "        availability = ET.SubElement(pub_stmt, \"availability\")\n",
    "        availability.attrib[\"status\"] = \"free\"\n",
    "        p = ET.SubElement(availability, \"p\")\n",
    "        p.text = \"The text is freely available.\"\n",
    "\n",
    "        series_stmt = ET.SubElement(file_desc, \"seriesStmt\")\n",
    "        title_series = ET.SubElement(series_stmt, \"title\")\n",
    "        title_series.text = corpus_name\n",
    "\n",
    "        source_desc = ET.SubElement(file_desc, \"sourceDesc\")\n",
    "        bibl_source = ET.SubElement(source_desc, \"bibl\")\n",
    "        bibl_title = ET.SubElement(bibl_source, \"title\")\n",
    "        bibl_title.text = title\n",
    "        bibl_author = ET.SubElement(bibl_source, \"author\")\n",
    "        bibl_author.text = author\n",
    "\n",
    "        lg_main = ET.SubElement(root, \"lg\")\n",
    "        lg_main.attrib[\"xmlns\"] = \"http://www.tei-c.org/ns/1.0\"\n",
    "        lg_main.attrib[\"type\"] = \"poem\"\n",
    "\n",
    "        measure_st = ET.SubElement(extent, \"measure\")\n",
    "        measure_st.attrib[\"unit\"] = \"stanza\"\n",
    "        measure_st.text = str(len(poem[\"stanzas\"]))\n",
    "        n_lines = 0\n",
    "\n",
    "        for stanza in poem[\"stanzas\"]:\n",
    "\n",
    "            n_lines += len(stanza[\"lines\"])\n",
    "\n",
    "            stanza_number = stanza[\"stanza_number\"]\n",
    "            stanza_type = stanza.get(\"stanza_type\")\n",
    "            lg = ET.SubElement(lg_main, \"lg\")\n",
    "            lg.attrib[\"n\"] = str(stanza_number)\n",
    "            if stanza_type:\n",
    "                lg.attrib[\"stanza_type\"] = stanza_type\n",
    "            for line in stanza[\"lines\"]:\n",
    "                l = ET.SubElement(lg, \"l\")\n",
    "                l.text = line[\"line_text\"]\n",
    "                l.attrib[\"n\"] = str(line[\"line_number\"])\n",
    "\n",
    "                metrical_pattern = line.get(\"metrical_pattern\")\n",
    "                rhyme = line.get(\"rhyme\")\n",
    "                line_length = line.get(\"line_length\")\n",
    "\n",
    "                if metrical_pattern:\n",
    "                    l.attrib[\"met\"] = str(metrical_pattern)\n",
    "                if rhyme:\n",
    "                    l.attrib[\"rhyme\"] = str(rhyme)\n",
    "                if line_length:\n",
    "                    l.attrib[\"line_length\"] = str(line_length)\n",
    "\n",
    "        measure_l = ET.SubElement(extent, \"measure\")\n",
    "        measure_l.attrib[\"unit\"] = \"line\"\n",
    "        measure_l.text = str(n_lines)\n",
    "        tree = ET.ElementTree(root)\n",
    "\n",
    "        #output_path = Path('corpora') / f'{poem[\"corpus\"]}' / 'averell' / 'TEI'\n",
    "        output_base_path = Path('corpora') / f'{poem[\"corpus\"]}'\n",
    "        output_path = output_base_path / 'TEI'\n",
    "        \n",
    "\n",
    "        #prefix = '{:05d}'.format(filename_list.count(file_name))\n",
    "        output_file = f\"{poem_id}.xml\"\n",
    "            \n",
    "        if not os.path.exists(output_base_path):\n",
    "            Path.mkdir(output_base_path)\n",
    "        if not os.path.exists(output_path):\n",
    "            Path.mkdir(output_path)\n",
    "        ET.indent(tree,space=\" \", level=0)\n",
    "\n",
    "        tree.write(f\"{Path(output_path) / output_file}\", encoding = \"UTF-8\", xml_declaration = True) "
   ]
  },
  {
   "cell_type": "code",
   "execution_count": 418,
   "id": "5d88aac2",
   "metadata": {},
   "outputs": [
    {
     "data": {
      "text/plain": [
       "PosixPath('corpora/stichopt/averell/parser/goncalves-dias/canto-primeiro.json')"
      ]
     },
     "execution_count": 418,
     "metadata": {},
     "output_type": "execute_result"
    }
   ],
   "source": [
    "poem_path"
   ]
  },
  {
   "cell_type": "code",
   "execution_count": 326,
   "id": "a14e7ca2",
   "metadata": {},
   "outputs": [
    {
     "name": "stdout",
     "output_type": "stream",
     "text": [
      "<TEI>\n",
      " <teiHeader>\n",
      "  <fileDesc>\n",
      "   <titleStmt>\n",
      "    <title>A la dina dana dina, la dina dana,</title>\n",
      "    <author>San Juan de la Cruz</author>\n",
      "   </titleStmt>\n",
      "   <extent>\n",
      "    <measure unit=\"stanza\">1</measure>\n",
      "    <measure unit=\"line\">16</measure>\n",
      "   </extent>\n",
      "   <publicationStmt>\n",
      "    <publisher>UNED University</publisher>\n",
      "    <idno>plc-no-llora-por-haberle-amor</idno>\n",
      "    <availability status=\"free\">\n",
      "     <p>The text is freely available.</p>\n",
      "    </availability>\n",
      "   </publicationStmt>\n",
      "   <seriesStmt>\n",
      "    <title>Poesía Lírica Castellana Siglo de Oro</title>\n",
      "   </seriesStmt>\n",
      "   <sourceDesc>\n",
      "    <bibl>\n",
      "     <title>A la dina dana dina, la dina dana,</title>\n",
      "     <author>San Juan de la Cruz</author>\n",
      "    </bibl>\n",
      "   </sourceDesc>\n",
      "  </fileDesc>\n",
      " </teiHeader>\n",
      " <lg xmlns=\"http://www.tei-c.org/ns/1.0\" type=\"poem\">\n",
      "  <lg n=\"1\" stanza_type=\"...\">\n",
      "   <l n=\"1\" met=\"+---+-+-+-\">No llora por haberle amor llagado,</l>\n",
      "   <l n=\"2\" met=\"-+-+-+-+-+-\">que no se pena en verse así afligido,</l>\n",
      "   <l n=\"3\" met=\"-----+-+-+-\">aunque en el corazón está herido;</l>\n",
      "   <l n=\"4\" met=\"-+---+-+-+-\">mas llora por pensar que está olvidado.</l>\n",
      "   <l n=\"5\" met=\"-+---+-+-+-\">Que solo de pensar que está olvidado</l>\n",
      "   <l n=\"6\" met=\"--+--+--+-\">de su bella pastora, con gran pena</l>\n",
      "   <l n=\"7\" met=\"-+---+-+-+-\">se deja maltratar en tierra ajena,</l>\n",
      "   <l n=\"8\" met=\"-+---+--+-\">el pecho del amor muy lastimado.</l>\n",
      "   <l n=\"9\" met=\"-+---+---+-\">Y dice el pastorcico: ¡Ay, desdichado</l>\n",
      "   <l n=\"10\" met=\"-+---+--+-\">de aquel que de mi amor ha hecho ausencia</l>\n",
      "   <l n=\"11\" met=\"-+--+---+-\">y no quiere gozar la mi presencia,</l>\n",
      "   <l n=\"12\" met=\"-+---+--+-\">el pecho por su amor muy lastimado!.</l>\n",
      "   <l n=\"13\" met=\"-+-+-+-+-\">Y a cabo de un gran rato se ha encumbrado</l>\n",
      "   <l n=\"14\" met=\"-+-+-+-+-\">sobre un árbol, do abrió sus brazos bellos,</l>\n",
      "   <l n=\"15\" met=\"-+-+-+-+-+-\">y muerto se ha quedado asido dellos,</l>\n",
      "   <l n=\"16\" met=\"-+---+--+-\">el pecho del amor muy lastimado.</l>\n",
      "  </lg>\n",
      " </lg>\n",
      "</TEI>\n"
     ]
    }
   ],
   "source": [
    "ET.indent(tree,space=\" \", level=0)\n",
    "ET.dump(tree)"
   ]
  },
  {
   "cell_type": "code",
   "execution_count": 8,
   "id": "c82575a0",
   "metadata": {},
   "outputs": [],
   "source": [
    "def get_whole_poem(poem_title):\n",
    "    poem_items = []\n",
    "    for poem_item in corpus_json:\n",
    "        if poem_item[\"poem_title\"] == poem_title:\n",
    "            poem_items.append(poem_item)\n",
    "    return poem_items"
   ]
  },
  {
   "cell_type": "code",
   "execution_count": 9,
   "id": "e44da696",
   "metadata": {},
   "outputs": [],
   "source": [
    "poem_corpus_json = {}\n",
    "for idx, poem_title in enumerate(titles):\n",
    "    poem_items = get_whole_poem(poem_title)\n",
    "    poem_corpus_json[idx] = poem_items"
   ]
  },
  {
   "cell_type": "code",
   "execution_count": 10,
   "id": "facd3efd-79fe-48f1-b12c-744421c0f161",
   "metadata": {},
   "outputs": [],
   "source": [
    "poem = poem_corpus_json[0]"
   ]
  },
  {
   "cell_type": "code",
   "execution_count": 11,
   "id": "ff0bd19a-4b49-40a5-bcdd-a5a1ce20b452",
   "metadata": {},
   "outputs": [
    {
     "data": {
      "text/plain": [
       "2"
      ]
     },
     "execution_count": 11,
     "metadata": {},
     "output_type": "execute_result"
    }
   ],
   "source": [
    "len(poem)"
   ]
  },
  {
   "cell_type": "code",
   "execution_count": 12,
   "id": "ab61bfac",
   "metadata": {},
   "outputs": [
    {
     "ename": "SyntaxError",
     "evalue": "invalid syntax (2695188288.py, line 1)",
     "output_type": "error",
     "traceback": [
      "\u001b[0;36m  Cell \u001b[0;32mIn[12], line 1\u001b[0;36m\u001b[0m\n\u001b[0;31m    <TEI>\u001b[0m\n\u001b[0m    ^\u001b[0m\n\u001b[0;31mSyntaxError\u001b[0m\u001b[0;31m:\u001b[0m invalid syntax\n"
     ]
    }
   ],
   "source": [
    "<teiHeader>\n",
    " <fileDesc>\n",
    "  <titleStmt>\n",
    "   <title>\n",
    "<!-- title of the resource -->\n",
    "   </title>\n",
    "  </titleStmt>\n",
    "  <publicationStmt>\n",
    "   <p>\n",
    "<!-- Information about distribution of the resource -->\n",
    "   </p>\n",
    "  </publicationStmt>\n",
    "  <sourceDesc>\n",
    "   <p>\n",
    "<!-- Information about source from which the resource derives -->\n",
    "   </p>\n",
    "  </sourceDesc>\n",
    " </fileDesc>\n",
    "</teiHeader>\n",
    "bibliography"
   ]
  },
  {
   "cell_type": "code",
   "execution_count": 13,
   "id": "a95dd4ac-ae26-4ebf-9108-b25b01121359",
   "metadata": {},
   "outputs": [],
   "source": [
    "stanza_number = 1\n",
    "root = ET.Element(\"TEI\")\n",
    "#header = ET.SubElement(root, \"teiHeader\")\n",
    "header = ET.SubElement(root, \"teiHeader\")\n",
    "title_stmt = ET.SubElement(header, \"titleStmt\")\n",
    "title_stmt_desc = ET.SubElement(title_stmt, \"title\")\n",
    "\n",
    "\n",
    "lg_main = ET.SubElement(root, \"lg\")\n",
    "lg_main.attrib[\"xmlns\"] = \"http://www.tei-c.org/ns/1.0\"\n",
    "lg_main.attrib[\"type\"] = \"poem\"\n",
    "lg = ET.SubElement(lg_main, \"lg\")\n",
    "lg.attrib[\"n\"] = \"1\"\n",
    "\n",
    "for line in poem:\n",
    "    if int(line[\"stanza_number\"]) > stanza_number:\n",
    "        stanza_number+=1\n",
    "        lg = ET.SubElement(lg_main, \"lg\")\n",
    "        lg.attrib[\"n\"] = str(stanza_number)\n",
    "    l = ET.SubElement(lg, \"l\")\n",
    "    l.text = line[\"line_text\"]\n",
    "    l.attrib[\"n\"] = str(line[\"line_number\"])\n",
    "    tree = ET.ElementTree(root)\n",
    "    #print(line[\"line_number\"], line[\"line_text\"], line[\"metrical_pattern\"])"
   ]
  },
  {
   "cell_type": "code",
   "execution_count": 17,
   "id": "5a9b9d85-948e-4973-ae20-f4231639be68",
   "metadata": {},
   "outputs": [
    {
     "name": "stdout",
     "output_type": "stream",
     "text": [
      "<TEI>\n",
      " <teiHeader>\n",
      "  <titleStmt>\n",
      "   <title />\n",
      "  </titleStmt>\n",
      " </teiHeader>\n",
      " <lg xmlns=\"http://www.tei-c.org/ns/1.0\" type=\"poem\">\n",
      "  <lg n=\"1\">\n",
      "   <l n=\"1\">A este que admiramos en luciente,</l>\n",
      "   <l n=\"2\">émulo del diamante, limpio acero,</l>\n",
      "  </lg>\n",
      " </lg>\n",
      "</TEI>\n"
     ]
    }
   ],
   "source": [
    "ET.indent(tree,space=\" \", level=0)\n",
    "ET.dump(tree)"
   ]
  },
  {
   "cell_type": "code",
   "execution_count": 25,
   "id": "719d0f6c",
   "metadata": {},
   "outputs": [],
   "source": [
    "tree.write(\"output.xml\", encoding = \"UTF-8\", xml_declaration = True) "
   ]
  },
  {
   "cell_type": "code",
   "execution_count": 21,
   "id": "65d0c8bc",
   "metadata": {},
   "outputs": [
    {
     "ename": "NameError",
     "evalue": "name 'poem_corpus_dict' is not defined",
     "output_type": "error",
     "traceback": [
      "\u001b[0;31m---------------------------------------------------------------------------\u001b[0m",
      "\u001b[0;31mNameError\u001b[0m                                 Traceback (most recent call last)",
      "Cell \u001b[0;32mIn[21], line 1\u001b[0m\n\u001b[0;32m----> 1\u001b[0m \u001b[38;5;28;01mfor\u001b[39;00m key, value \u001b[38;5;129;01min\u001b[39;00m \u001b[43mpoem_corpus_dict\u001b[49m\u001b[38;5;241m.\u001b[39mitems():\n\u001b[1;32m      2\u001b[0m     title \u001b[38;5;241m=\u001b[39m value[\u001b[38;5;124m\"\u001b[39m\u001b[38;5;124mpoem\u001b[39m\u001b[38;5;124m\"\u001b[39m]\n\u001b[1;32m      3\u001b[0m     location \u001b[38;5;241m=\u001b[39m value[\u001b[38;5;124m\"\u001b[39m\u001b[38;5;124mlocation\u001b[39m\u001b[38;5;124m\"\u001b[39m]\n",
      "\u001b[0;31mNameError\u001b[0m: name 'poem_corpus_dict' is not defined"
     ]
    }
   ],
   "source": [
    "for key, value in poem_corpus_dict.items():\n",
    "    title = value[\"poem\"]\n",
    "    location = value[\"location\"]\n",
    "    lines = value[\"poem\"].strip().split(\"\\n\")\n",
    "    \n",
    "    \n",
    "    root = ET.Element(\"TEI\")\n",
    "\n",
    "    header = ET.SubElement(root, \"teiHeader\")\n",
    "\n",
    "    filedesc = ET.SubElement(header, \"fileDesc\")\n",
    "    titlestmt = ET.SubElement(filedesc, \"titleStmt\")\n",
    "    tei_title = ET.SubElement(titlestmt, \"title\")\n",
    "    tei_title.text = title\n",
    "\n",
    "    sourcedesc = ET.SubElement(filedesc, \"sourceDesc\")\n",
    "    bibl = ET.SubElement(sourcedesc, \"bibl\")\n",
    "    col_author = ET.SubElement(bibl, \"author\")\n",
    "    col_author.text = COLLECTION_AUTHOR\n",
    "    \n",
    "    col_title = ET.SubElement(bibl, \"title\")\n",
    "    col_title.text = COLLECTION_TITLE\n",
    "    \n",
    "    col_place = ET.SubElement(bibl, \"pubPlace\")\n",
    "    col_place.text = COLLECTION_PLACE\n",
    "    \n",
    "    col_date = ET.SubElement(bibl, \"date\")\n",
    "    col_date.text = COLLECTION_DATE\n",
    "    \n",
    "    num = ET.SubElement(bibl, \"num\")\n",
    "    num.text = str(key)\n",
    "\n",
    "    notes_stmt = ET.SubElement(header, \"notesStmt\")\n",
    "    note = ET.SubElement(notes_stmt, \"note\")\n",
    "    note.set(\"n\", \"subcollection\")\n",
    "    note.text = subcollection\n",
    "    \n",
    "    if isinstance(location, str):\n",
    "        setting_desc = ET.SubElement(header, \"settingDesc\")\n",
    "        name = ET.SubElement(header, \"name\")\n",
    "        name.text = location   \n",
    "        \n",
    "    text = ET.SubElement(root, \"text\")\n",
    "    \n",
    "    for line in lines:\n",
    "        if line != \"\":\n",
    "            l = ET.SubElement(text, \"l\")\n",
    "            l.text = line.strip()\n",
    "    \n",
    "    \n",
    "    tree = ET.ElementTree(root)\n",
    "    ET.indent(tree,space=\" \", level=0)\n",
    "    \n",
    "    # Cambiar debugging a True para NO escribir los archivos, y en su lugar mostrarlo en pantalla.\n",
    "    debugging = True\n",
    "    \n",
    "    if debugging:\n",
    "        ET.dump(tree)\n",
    "    else:\n",
    "        tree.write(f\"tei/{key}_{title}.xml\",encoding=\"utf-8\")"
   ]
  },
  {
   "cell_type": "code",
   "execution_count": null,
   "id": "3d6919c0",
   "metadata": {},
   "outputs": [],
   "source": []
  }
 ],
 "metadata": {
  "kernelspec": {
   "display_name": "Python 3 (ipykernel)",
   "language": "python",
   "name": "python3"
  },
  "language_info": {
   "codemirror_mode": {
    "name": "ipython",
    "version": 3
   },
   "file_extension": ".py",
   "mimetype": "text/x-python",
   "name": "python",
   "nbconvert_exporter": "python",
   "pygments_lexer": "ipython3",
   "version": "3.10.10"
  }
 },
 "nbformat": 4,
 "nbformat_minor": 5
}
